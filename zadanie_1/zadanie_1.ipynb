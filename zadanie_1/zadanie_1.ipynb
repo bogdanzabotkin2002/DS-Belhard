{
  "nbformat": 4,
  "nbformat_minor": 0,
  "metadata": {
    "colab": {
      "provenance": []
    },
    "kernelspec": {
      "name": "python3",
      "display_name": "Python 3"
    },
    "language_info": {
      "name": "python"
    }
  },
  "cells": [
    {
      "cell_type": "code",
      "execution_count": null,
      "metadata": {
        "colab": {
          "base_uri": "https://localhost:8080/"
        },
        "id": "5bcKLCfN5NMN",
        "outputId": "ca6f7d4d-f00d-4d4c-a349-91076dca1541"
      },
      "outputs": [
        {
          "output_type": "stream",
          "name": "stdout",
          "text": [
            "Название: Три товарища, Автор: Э.М. Ремарк, Год:1936, Жанр:роман\n"
          ]
        }
      ],
      "source": [
        "book = {\"author\": \"Э.М. Ремарк\", \"title\": \"Три товарища\",  \"publication_year\": 1936, \"genre\": \"роман\"}\n",
        "\n",
        "print(f\"Название: {book['title']}, Автор: {book['author']}, Год:{book['publication_year']}, Жанр:{book['genre']}\")\n",
        "\n",
        "# # сложность алгоритма линейна О(N)"
      ]
    }
  ]
}